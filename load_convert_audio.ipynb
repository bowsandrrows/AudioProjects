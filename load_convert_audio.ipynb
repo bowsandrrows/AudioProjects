{
 "cells": [
  {
   "cell_type": "markdown",
   "id": "e56f4d93",
   "metadata": {},
   "source": [
    " ! pip install librosa sounddevice\n",
    "\n",
    " ! pip install pydub\n",
    " \n",
    " ! pip install matplotlib"
   ]
  },
  {
   "cell_type": "code",
   "execution_count": null,
   "id": "a752c965",
   "metadata": {},
   "outputs": [],
   "source": [
    "from pydub import AudioSegment\n",
    "import os\n",
    "\n",
    "\n",
    "# Path to your input and output files\n",
    "input_path = 'AudioFiles\\\\my_voice.m4a'   # Replace with your .m4a file path\n",
    "output_dir = 'ConvertedAudioFiles'\n",
    "\n",
    "os.makedirs(output_dir, exist_ok=True)\n",
    "output_path = os.path.join(output_dir, 'my_voice.wav')  # Specify output file name\n",
    "\n",
    "# Load and convert\n",
    "audio = AudioSegment.from_file(input_path, format=\"m4a\")\n",
    "audio.export(output_path, format=\"wav\")\n",
    "\n",
    "print(f\"{input_path} file was converted to: {output_path}\")"
   ]
  },
  {
   "cell_type": "markdown",
   "id": "a551d4e1",
   "metadata": {},
   "source": [
    " #### Load and play an audio file using librosa and sounddevice"
   ]
  },
  {
   "cell_type": "code",
   "execution_count": 16,
   "id": "db2ed3f8",
   "metadata": {},
   "outputs": [],
   "source": [
    "import librosa\n",
    "import sounddevice as sd\n",
    "\n",
    "# Path to your audio file\n",
    "audio_path = r'ConvertedAudioFiles\\my_voice.wav'  # Replace with your file path\n",
    "\n",
    "# Load audio file\n",
    "y, sr = librosa.load(audio_path, sr=None)\n",
    "\n",
    "# Play audio\n",
    "sd.play(y, sr)\n",
    "sd.wait()  # Wait until playback is"
   ]
  },
  {
   "cell_type": "markdown",
   "id": "e7d9235c",
   "metadata": {},
   "source": [
    "#### Plot a waveform"
   ]
  },
  {
   "cell_type": "markdown",
   "id": "0a8e948b",
   "metadata": {},
   "source": [
    " What the plot represents\n",
    "- X‑axis (Time in seconds) → The full recording spans 0 to ~20 seconds. This lets you see when sound events happen.\n",
    "- Y‑axis (Amplitude) → This is the signal strength, normalized to between roughly -0.6 and +0.6 here.\n",
    "- Positive values: air pressure waves pushing outward (relative to the microphone).\n",
    "- Negative values: waves pulling inward.\n",
    "- The squiggly line → Changes in amplitude over time — basically, the raw audio wave.\n",
    "\n",
    "🔍 What you can read from it\n",
    "- Peaks and troughs = Louder moments. Taller spikes mean higher amplitude (more volume).\n",
    "- Flat or low‑amplitude sections = Quieter parts or silence.\n",
    "- Variations in density of wiggles\n",
    "- Closely packed oscillations → higher‑pitched sounds.\n",
    "- More spread‑out oscillations → lower‑pitched sounds.\n",
    "\n",
    "🧠 Insights that could be extracted\n",
    "- Dynamic range → This signal’s variation isn’t huge (±0.6), so the recording might not be fully normalized for max loudness.\n",
    "- Structure → You could zoom in on certain sections to analyze specific events — speech, beats, or instrument notes.\n",
    "- Next step → Converting this to a spectrogram would show how frequencies evolve over the 20 seconds, which is more revealing than amplitude alone.\n"
   ]
  },
  {
   "cell_type": "code",
   "execution_count": null,
   "id": "ad7ade28",
   "metadata": {},
   "outputs": [],
   "source": [
    "import matplotlib.pyplot as plt\n",
    "import librosa.display\n",
    "\n",
    "plt.figure(figsize=(12, 4))\n",
    "librosa.display.waveshow(y, sr=sr)\n",
    "plt.title(\"Waveform\")\n",
    "plt.xlabel(\"time (s)\")\n",
    "plt.ylabel(\"Amplitude\")\n",
    "plt.show()"
   ]
  },
  {
   "cell_type": "markdown",
   "id": "87a5ed0e",
   "metadata": {},
   "source": [
    "#### Spectrogram (time + frequency)"
   ]
  },
  {
   "cell_type": "markdown",
   "id": "19d32633",
   "metadata": {},
   "source": [
    "The anatomy of a spectrogram\n",
    "- Horizontal axis (X‑axis) → Time, just like in your waveform, so you can track when events happen.\n",
    "- Vertical axis (Y‑axis) → Frequency, usually in Hertz (Hz).\n",
    "- Low frequencies are at the bottom (bass notes, rumbles).\n",
    "- High frequencies are at the top (whistles, cymbals, sibilants).\n",
    "- Color intensity → Loudness at that frequency & time.\n",
    "- Bright or warm colors (yellow, red) = stronger/louder energy.\n",
    "- Dark or cool colors (blues, purples) = quieter energy.\n",
    "\n",
    "🔍 What you can learn from it\n",
    "- Pitch content → Steady horizontal bands indicate sustained tones (like singing a note or a held instrument).\n",
    "- Rhythm & timing → Repeating patterns in the colors/frequency bands can reveal beats, strums, or recurring phrases.\n",
    "- Timbre → The “texture” of a sound shows up in how the harmonics (stacked bands above a fundamental) look.\n",
    "- Transitions → Gliding bands show pitch slides or portamentos.\n",
    "- Noise vs. tone → Noise appears as wide, fuzzy color smears across many frequencies at once (like claps or static).\n",
    "\n",
    "🧠 Going deeper\n",
    "From a single spectrogram, you could:\n",
    "- Identify the instrumentation or type of voice used.\n",
    "- See where energy is concentrated — e.g., a bass‑heavy mix vs. a treble‑bright one.\n",
    "- Spot events invisible in a waveform, like faint background hiss or harmonics.\n",
    "\n",
    "\n"
   ]
  },
  {
   "cell_type": "code",
   "execution_count": null,
   "id": "6c069401",
   "metadata": {},
   "outputs": [],
   "source": [
    "S = librosa.stft(y)\n",
    "S_db = librosa.amplitude_to_db(abs(S))\n",
    "\n",
    "plt.figure(figsize=(12, 6))\n",
    "librosa.display.specshow(S_db, sr=sr, x_axis='time', y_axis='hz')\n",
    "plt.colorbar(format=\"%+2.f dB\")\n",
    "plt.title(\"Spectrogram\")\n",
    "plt.show()\n"
   ]
  }
 ],
 "metadata": {
  "kernelspec": {
   "display_name": "🐍 active-kernel-A",
   "language": "python",
   "name": "active-jupvenv"
  },
  "language_info": {
   "codemirror_mode": {
    "name": "ipython",
    "version": 3
   },
   "file_extension": ".py",
   "mimetype": "text/x-python",
   "name": "python",
   "nbconvert_exporter": "python",
   "pygments_lexer": "ipython3",
   "version": "3.13.5"
  }
 },
 "nbformat": 4,
 "nbformat_minor": 5
}
